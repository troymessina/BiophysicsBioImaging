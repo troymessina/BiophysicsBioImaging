{
 "cells": [
  {
   "cell_type": "code",
   "execution_count": 1,
   "id": "767b6542",
   "metadata": {},
   "outputs": [],
   "source": [
    "import numpy as np\n",
    "import matplotlib.pyplot as plt\n",
    "from scipy.optimize import curve_fit\n",
    "\n",
    "plt.rcParams[\"figure.figsize\"] = (10,6)\n",
    "plt.rcParams.update({'font.size': 14})"
   ]
  },
  {
   "cell_type": "markdown",
   "id": "31026ce6",
   "metadata": {},
   "source": [
    "# Basilar Membrane\n",
    "We learn that the basilar membrane is a membrane that gains mass and loses stiffness as it extends further from the oval window toward the apex. We model it as a spring-mass system with varying mass and spring stiffness. Let's look at how those variables affect vibrational frequency.\n",
    "\n",
    "According to Hooke's Law\n",
    "\n",
    "$$F = -kx$$\n",
    "\n",
    "saying a spring with stiffness $k$ will pull back against an applied force. The force required to extend or compress a spring a distance $x$ is $-kx$. We can apply a force using gravity to verify that a spring is \"Hookian\". In this case, adding a mass to a spring and allowing gravity to pull the mass downward will create an upward force in the spring to balance the gravitational force.\n",
    "\n",
    "$$\\sum F = kx-mg = 0$$\n",
    "\n",
    "or \n",
    "\n",
    "$$mg = kx$$\n",
    "\n",
    "I've made the spring force $kx$ positive for upward and the weight $mg$ downward or negative. If we plot $mg$ vs. $x$, the slope will be $k$. Let's add mass and measure the extension of the spring. Enter your quantities below."
   ]
  },
  {
   "cell_type": "code",
   "execution_count": null,
   "id": "b4456a95",
   "metadata": {},
   "outputs": [],
   "source": [
    "g = 9.8 #m/s^2\n",
    "m = np.array([0.05,0.06,0.07,0.08])#array of masses\n",
    "mg = m*g\n",
    "x = np.array([0.05, 0.06, 0.07, 0.08])#array of extension lengths in meters\n",
    "x_unc = np.array([0.005,0.005,0.005, 0.005])#estimate your uncertainty in measuring x\n",
    "mg_unc = x_unc/x*mg#propagate the relative uncertainty in x to mg\n",
    "\n",
    "\n",
    "def f_line(x, m, b):\n",
    "    return m*x+b\n",
    "\n",
    "fit_params, fit_cov =curve_fit(f_line, x, mg, p0=(1,1), sigma=mg_unc, absolute_sigma=True)\n",
    "print(fit_params)\n",
    "\n",
    "y_fit = f_line(x, fit_params[0], fit_params[1])\n",
    "\n",
    "plt.errorbar(x, mg, yerr=mg_unc, fmt='ok', ecolor=None, elinewidth=1.0, capsize=1.0, capthick=1.0)\n",
    "plt.plot(x, y_fit, '-k', label='fit')\n",
    "plt.ylabel('mg (N)')\n",
    "plt.xlabel('x (m)')\n",
    "plt.show()"
   ]
  },
  {
   "cell_type": "markdown",
   "id": "ca044df5",
   "metadata": {},
   "source": [
    "## Solving the Equation of Motion\n",
    "If we attach a mass to a spring or simply have something massive that is elastic in a \"Hookian\" way, we could stretch it by pulling on it. The force we apply to stretch it satifies the equation\n",
    "\n",
    "$$F_{pull} = -kx$$\n",
    "\n",
    "This is a $F_{net}=0$ situation like the one described above. If we let go, the elastic material will have a net force that comes from Hooke's Law.\n",
    "\n",
    "$$F_{net} = -kx$$\n",
    "\n",
    "Since there is a net force, there is acceleration.\n",
    "\n",
    "$$F_{net} = -kx = ma$$\n",
    "\n",
    "and since the acceleration is along $x$, we can rewrite this as an \"equation of motion\"\n",
    "\n",
    "$$-kx = \\frac{d^2x}{dt^2}$$\n",
    "\n",
    "This is a commonly recurring differential equation in physics, and we know the solutions are\n",
    "\n",
    "$$\\begin{equation}\n",
    "  x(t) = \n",
    "    \\begin{cases}\n",
    "      A\\cos\\omega t\\\\\n",
    "      A\\sin\\omega t\n",
    "    \\end{cases}       \n",
    "\\end{equation}$$\n",
    "\n",
    "where $\\omega$ is the frequency the spring-mass will oscillate. We can solve the equation of motion with each of these and see that\n",
    "\n",
    "$$\\omega = \\sqrt{\\frac{k}{m}}$$\n",
    "\n",
    "and this can be rewritten for the period of oscillation $T= 1/f = 2\\pi/\\omega$.\n",
    "\n",
    "$$T = 2\\pi\\sqrt{\\frac{m}{k}}$$\n",
    "\n",
    "## Frequency vs. mass\n",
    "Now, let's look at how the period changes with mass by doing an experiment. We'll record the period of oscillation for various masses. Use a stopwatch to measure the period (top-to-top cycle for example). It may be more accurate to measure 3 to 5 periods and divide by the number of periods measured. Enter your results below, and fit the results with a power law function. To do the fit, enter the left hand side of the function\n",
    "\n",
    "$$T = ax^b$$\n",
    "\n",
    "From the equation for period in terms of mass and spring constant, what are you expecting for $a$ and $b$?"
   ]
  },
  {
   "cell_type": "code",
   "execution_count": null,
   "id": "62766bce",
   "metadata": {},
   "outputs": [],
   "source": [
    "m = np.array([0.05, 0.06, 0.07, 0.08, 0.09, 0.10])#array of masses\n",
    "T = np.array([0.05, 0.06, 0.07, 0.08,  0.09, 0.10])#array of periods for different masses\n",
    "T_unc = np.array([0.005, 0.005, 0.005, 0.005, 0.005, 0.005])#estimate your uncertainty in measuring T\n",
    "\n",
    "def f_pow(x, a, b):\n",
    "    return \n",
    "\n",
    "fit_params, fit_cov =curve_fit(f_pow, m, T, p0=(1,-1), sigma=T_unc, absolute_sigma=True)\n",
    "print(fit_params)\n",
    "\n",
    "y_fit = f_pow(m, fit_params[0], fit_params[1])\n",
    "\n",
    "plt.errorbar(m, w, yerr=w_unc, fmt='ok', ecolor=None, elinewidth=1.0, capsize=1.0, capthick=1.0)\n",
    "plt.plot(m, y_fit, '-k', label='fit')\n",
    "plt.ylabel('T (s)')\n",
    "plt.xlabel('mass (kg)')\n",
    "plt.show()"
   ]
  },
  {
   "cell_type": "code",
   "execution_count": null,
   "id": "45308265",
   "metadata": {},
   "outputs": [],
   "source": []
  }
 ],
 "metadata": {
  "kernelspec": {
   "display_name": "Python 3 (ipykernel)",
   "language": "python",
   "name": "python3"
  },
  "language_info": {
   "codemirror_mode": {
    "name": "ipython",
    "version": 3
   },
   "file_extension": ".py",
   "mimetype": "text/x-python",
   "name": "python",
   "nbconvert_exporter": "python",
   "pygments_lexer": "ipython3",
   "version": "3.9.13"
  }
 },
 "nbformat": 4,
 "nbformat_minor": 5
}
