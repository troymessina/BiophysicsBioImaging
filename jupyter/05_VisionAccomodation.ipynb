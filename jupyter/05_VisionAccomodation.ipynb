{
 "cells": [
  {
   "cell_type": "code",
   "execution_count": 2,
   "id": "dfd04739",
   "metadata": {},
   "outputs": [],
   "source": [
    "import numpy as np\n",
    "import matplotlib.pyplot as plt"
   ]
  },
  {
   "cell_type": "markdown",
   "id": "b56b3198",
   "metadata": {},
   "source": [
    "# Modeling the Eye at 10X\n",
    "We will set up an optical system to model the eye that has all lengths multiplied by 10. For example, the eye is approximately 1.5 cm from lens to retina. In this experiment, it will be 15 cm (150 mm).\n",
    "\n",
    "To verify the focal length of the 150 mm lens, go to a window with the lens and a sheet of paper. Focus the trees or Seabury building on the sheet of paper using the lens. In this scenario, the object (trees or Seabury) are **VERY** far away. One might say \"infinitely far\" such that $s\\approx\\infty$. Measure the distance from lens to paper, $s'$, when the image is focused. Use the thin lens equation to determine $f$.\n",
    "\n",
    "$$\\frac{1}{f}=\\frac{1}{s}+\\frac{1}{s'}$$\n",
    "\n",
    "## The relaxed eye for far vision\n",
    "When we look at distant objects, we relax our eye, and the eye has an accomodation associated with a long focal length.\n",
    "\n",
    "1. Set up the optics system with a 150 mm lens, viewing screen and object light source.\n",
    "2. Set the viewing screen at the far right end of the optics rail.\n",
    "3. Place the oject light very far (as far across the table as possible) from the viewing screen.\n",
    "4. Find the location for the lens that creates a focused image on the viewing screen.\n",
    "5. Calculate the refractive power of the lens in this system.\n",
    "6. Comment on the size of the image on the viewing screen (large, medium, small).\n"
   ]
  },
  {
   "cell_type": "code",
   "execution_count": null,
   "id": "039cbbd2",
   "metadata": {},
   "outputs": [],
   "source": [
    "s = \n",
    "sprime =\n",
    "f = (1/s + 1/sprime)**-1\n",
    "print(f)"
   ]
  },
  {
   "cell_type": "markdown",
   "id": "76360e38",
   "metadata": {},
   "source": [
    "## Accomodation for near vision\n",
    "To see close objects, muscles contract to increase the radius of curvature of the lens. This causes the lens to have a shorter focal length. The lens to retina distance remains the same (1.5 cm, which will be 15 cm for our experiment).\n",
    "\n",
    "1. Arrange the 75 mm lens and viewing screen 150 mm apart at the right end of the optics rail.\n",
    "    * This gives $s' = 0.150$ m.\n",
    "2. Adjust the object light until the image is clear.\n",
    "3. Measure $s$ and calculate the focal length of the lens to verify that it is approximately $f = 75$ mm.\n",
    "4. Comment on the size of the image on the viewing screen."
   ]
  },
  {
   "cell_type": "code",
   "execution_count": null,
   "id": "62f2ff2e",
   "metadata": {},
   "outputs": [],
   "source": []
  },
  {
   "cell_type": "markdown",
   "id": "22b1f35c",
   "metadata": {},
   "source": [
    "### Even more accomodation\n",
    "1. Repeat the previous experiment with the unknown lens.\n",
    "2. What is the focal length of this lens?"
   ]
  },
  {
   "cell_type": "code",
   "execution_count": null,
   "id": "9f6d6d9d",
   "metadata": {},
   "outputs": [],
   "source": []
  },
  {
   "cell_type": "markdown",
   "id": "f0cf9afa",
   "metadata": {},
   "source": [
    "## Refractive Power\n",
    "1. Calculate the refractive power $P=1/f$ for all three lenses.\n",
    "2. How much accomodation has been made between the 150 mm and shortest focal length lens?\n",
    "\n",
    "## Perception of Distance\n",
    "Thinking about your answers related to image size, how might these image sizes be related to our perception of object distance?"
   ]
  },
  {
   "cell_type": "code",
   "execution_count": null,
   "id": "09a19c2a",
   "metadata": {},
   "outputs": [],
   "source": []
  },
  {
   "cell_type": "markdown",
   "id": "8b7cc4ad",
   "metadata": {},
   "source": [
    "# For Fun\n",
    "For a lens with focal length of 10 cm (0.1 m), plot the relationship image distance vs. object distance ($s'$ vs. $s$). To do this set a variable for `f`. Then, make a numpy array of object distances from 0.01 to 0.5 m in steps of 0.01 m. Calculate the image distance using the thin lens equation.\n",
    "\n",
    "$$\\frac{1}{f}=\\frac{1}{s}+\\frac{1}{s'}$$"
   ]
  },
  {
   "cell_type": "code",
   "execution_count": null,
   "id": "cccc26dd",
   "metadata": {},
   "outputs": [],
   "source": [
    "f=\n",
    "s = \n",
    "sp = \n",
    "\n",
    "plt.plot()\n",
    "plt.xlabel('Object Distance (m)')\n",
    "plt.ylabel('Image Distance (m)')\n",
    "plt.show()"
   ]
  },
  {
   "cell_type": "code",
   "execution_count": null,
   "id": "a8da8725",
   "metadata": {},
   "outputs": [],
   "source": []
  }
 ],
 "metadata": {
  "kernelspec": {
   "display_name": "Python 3 (ipykernel)",
   "language": "python",
   "name": "python3"
  },
  "language_info": {
   "codemirror_mode": {
    "name": "ipython",
    "version": 3
   },
   "file_extension": ".py",
   "mimetype": "text/x-python",
   "name": "python",
   "nbconvert_exporter": "python",
   "pygments_lexer": "ipython3",
   "version": "3.9.13"
  }
 },
 "nbformat": 4,
 "nbformat_minor": 5
}
